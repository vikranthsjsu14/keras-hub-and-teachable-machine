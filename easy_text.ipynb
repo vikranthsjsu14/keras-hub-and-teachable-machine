{
  "nbformat": 4,
  "nbformat_minor": 0,
  "metadata": {
    "colab": {
      "provenance": []
    },
    "kernelspec": {
      "name": "python3",
      "display_name": "Python 3"
    },
    "language_info": {
      "name": "python"
    }
  },
  "cells": [
    {
      "cell_type": "code",
      "execution_count": 1,
      "metadata": {
        "id": "vaiuzxemoubj"
      },
      "outputs": [],
      "source": [
        "import tensorflow as tf\n",
        "import tensorflow_hub as hub\n",
        "import numpy as np\n"
      ]
    },
    {
      "cell_type": "code",
      "source": [
        "# Load a pre-trained text embedding model from TensorFlow Hub\n",
        "model_url = \"https://tfhub.dev/google/nnlm-en-dim50/2\"\n",
        "embed = hub.load(model_url)"
      ],
      "metadata": {
        "id": "9G-IaEKMo-3y"
      },
      "execution_count": 2,
      "outputs": []
    },
    {
      "cell_type": "code",
      "source": [
        "# Example text data (variation: different set of sentences)\n",
        "texts = [\n",
        "    \"The quick brown fox jumps over the lazy dog.\",\n",
        "    \"TensorFlow Hub makes model reuse easy!\",\n",
        "    \"Deep learning is revolutionizing artificial intelligence.\"\n",
        "]"
      ],
      "metadata": {
        "id": "nEVFiEVlpBvk"
      },
      "execution_count": 3,
      "outputs": []
    },
    {
      "cell_type": "code",
      "source": [
        "# Convert text to embeddings\n",
        "embeddings = embed(texts)\n"
      ],
      "metadata": {
        "id": "6vJ6eoCTpFwH"
      },
      "execution_count": 4,
      "outputs": []
    },
    {
      "cell_type": "code",
      "source": [
        "# Display results\n",
        "for i, text in enumerate(texts):\n",
        "    print(f\"Text: {text}\")\n",
        "    print(f\"Embedding (first 5 values): {embeddings[i][:5].numpy()}\")\n",
        "    print(\"-\")\n"
      ],
      "metadata": {
        "colab": {
          "base_uri": "https://localhost:8080/"
        },
        "id": "L_BKk-hzpIMX",
        "outputId": "9e482307-b49f-4006-ee6e-17c00c3bdc04"
      },
      "execution_count": 5,
      "outputs": [
        {
          "output_type": "stream",
          "name": "stdout",
          "text": [
            "Text: The quick brown fox jumps over the lazy dog.\n",
            "Embedding (first 5 values): [ 0.48773545 -0.13565958  0.0789178   0.1632785  -0.05018046]\n",
            "-\n",
            "Text: TensorFlow Hub makes model reuse easy!\n",
            "Embedding (first 5 values): [ 0.14749852 -0.14185938  0.15677729  0.03754092 -0.37471738]\n",
            "-\n",
            "Text: Deep learning is revolutionizing artificial intelligence.\n",
            "Embedding (first 5 values): [ 0.26370823  0.01711837  0.31289676 -0.06482866 -0.13015439]\n",
            "-\n"
          ]
        }
      ]
    }
  ]
}