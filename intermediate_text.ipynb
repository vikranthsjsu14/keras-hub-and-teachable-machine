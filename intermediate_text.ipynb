{
  "nbformat": 4,
  "nbformat_minor": 0,
  "metadata": {
    "colab": {
      "provenance": []
    },
    "kernelspec": {
      "name": "python3",
      "display_name": "Python 3"
    },
    "language_info": {
      "name": "python"
    }
  },
  "cells": [
    {
      "cell_type": "code",
      "execution_count": 1,
      "metadata": {
        "id": "PcO3WrdNq7Z7"
      },
      "outputs": [],
      "source": [
        "import tensorflow as tf\n",
        "import tensorflow_hub as hub\n",
        "import numpy as np\n",
        "from sklearn.metrics.pairwise import cosine_similarity"
      ]
    },
    {
      "cell_type": "code",
      "source": [
        "# Load a different text embedding model from TensorFlow Hub (Variation)\n",
        "model_url = \"https://tfhub.dev/google/universal-sentence-encoder/4\"\n",
        "embed = hub.load(model_url)"
      ],
      "metadata": {
        "id": "FOJBin9SrK7v"
      },
      "execution_count": 2,
      "outputs": []
    },
    {
      "cell_type": "code",
      "source": [
        "# Example text data (Variation: focusing on similarity)\n",
        "texts = [\n",
        "    \"Machine learning enables computers to learn from data.\",\n",
        "    \"Deep learning is a subset of machine learning.\",\n",
        "    \"Cats and dogs are popular pets.\",\n",
        "    \"Artificial intelligence is the future of technology.\"\n",
        "]\n"
      ],
      "metadata": {
        "id": "k5uy82eTrNR-"
      },
      "execution_count": 3,
      "outputs": []
    },
    {
      "cell_type": "code",
      "source": [
        "# Convert text to embeddings\n",
        "embeddings = embed(texts)\n"
      ],
      "metadata": {
        "id": "-cox464krPmN"
      },
      "execution_count": 4,
      "outputs": []
    },
    {
      "cell_type": "code",
      "source": [
        "# Compute cosine similarity between sentences (Variation: applying similarity analysis)\n",
        "similarity_matrix = cosine_similarity(embeddings.numpy())\n"
      ],
      "metadata": {
        "id": "BKmi3keYrSD0"
      },
      "execution_count": 5,
      "outputs": []
    },
    {
      "cell_type": "code",
      "source": [
        "# Display results\n",
        "print(\"Cosine Similarity Matrix:\")\n",
        "print(similarity_matrix)\n"
      ],
      "metadata": {
        "colab": {
          "base_uri": "https://localhost:8080/"
        },
        "id": "psMpAibzrVgp",
        "outputId": "4d2980fc-5d19-470b-bee9-fd277ceeda86"
      },
      "execution_count": 6,
      "outputs": [
        {
          "output_type": "stream",
          "name": "stdout",
          "text": [
            "Cosine Similarity Matrix:\n",
            "[[1.         0.68806136 0.044466   0.4479677 ]\n",
            " [0.68806136 1.         0.04154475 0.41899484]\n",
            " [0.044466   0.04154475 1.0000006  0.1140089 ]\n",
            " [0.4479677  0.41899484 0.1140089  0.9999999 ]]\n"
          ]
        }
      ]
    }
  ]
}